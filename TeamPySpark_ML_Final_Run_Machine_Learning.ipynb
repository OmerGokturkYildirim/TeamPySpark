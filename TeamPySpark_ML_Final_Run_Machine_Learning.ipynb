{
 "cells": [
  {
   "cell_type": "markdown",
   "metadata": {},
   "source": [
    "# Load Libraries and Data for Machine Learning models"
   ]
  },
  {
   "cell_type": "markdown",
   "metadata": {},
   "source": [
    "# This notebook runs our two best models: Logistic Regression and Random Forest, both on binary classification"
   ]
  },
  {
   "cell_type": "code",
   "execution_count": 1,
   "metadata": {},
   "outputs": [],
   "source": [
    "#Import warnings\n",
    "import warnings\n",
    "warnings.filterwarnings('ignore')"
   ]
  },
  {
   "cell_type": "code",
   "execution_count": 2,
   "metadata": {},
   "outputs": [],
   "source": [
    "# General imports\n",
    "import numpy as np\n",
    "import pandas as pd\n",
    "import os\n",
    "from pathlib import Path\n",
    "from collections import Counter\n",
    "\n",
    "# For preprocessing ahead of running ML Models\n",
    "from sklearn.model_selection import train_test_split\n",
    "from sklearn.preprocessing import StandardScaler\n",
    "from sklearn.decomposition import PCA\n",
    "import sklearn as skl \n",
    "from imblearn.over_sampling import RandomOverSampler\n",
    "from imblearn.combine import SMOTEENN\n",
    "\n",
    "#For ML models\n",
    "from sklearn.datasets import make_blobs, make_classification\n",
    "from sklearn.linear_model import LinearRegression, LogisticRegression\n",
    "from sklearn.ensemble import RandomForestClassifier\n",
    "\n",
    "# For model evaluation\n",
    "from sklearn.metrics import confusion_matrix, accuracy_score, balanced_accuracy_score, classification_report  \n",
    "from imblearn.metrics import classification_report_imbalanced"
   ]
  },
  {
   "cell_type": "code",
   "execution_count": 3,
   "metadata": {},
   "outputs": [
    {
     "data": {
      "text/html": [
       "<div>\n",
       "<style scoped>\n",
       "    .dataframe tbody tr th:only-of-type {\n",
       "        vertical-align: middle;\n",
       "    }\n",
       "\n",
       "    .dataframe tbody tr th {\n",
       "        vertical-align: top;\n",
       "    }\n",
       "\n",
       "    .dataframe thead th {\n",
       "        text-align: right;\n",
       "    }\n",
       "</style>\n",
       "<table border=\"1\" class=\"dataframe\">\n",
       "  <thead>\n",
       "    <tr style=\"text-align: right;\">\n",
       "      <th></th>\n",
       "      <th>Unnamed: 0</th>\n",
       "      <th>ORIGINAL_LANGUAGE</th>\n",
       "      <th>FUNDED_AMOUNT</th>\n",
       "      <th>ACTIVITY_NAME</th>\n",
       "      <th>SECTOR_NAME</th>\n",
       "      <th>COUNTRY_NAME</th>\n",
       "      <th>PARTNER_ID</th>\n",
       "      <th>NUM_LENDERS_TOTAL</th>\n",
       "      <th>REPAYMENT_INTERVAL</th>\n",
       "      <th>DISTRIBUTION_MODEL</th>\n",
       "      <th>MALE</th>\n",
       "      <th>FEMALE</th>\n",
       "      <th>SUCCESS</th>\n",
       "    </tr>\n",
       "  </thead>\n",
       "  <tbody>\n",
       "    <tr>\n",
       "      <th>0</th>\n",
       "      <td>102097</td>\n",
       "      <td>English</td>\n",
       "      <td>1100.0</td>\n",
       "      <td>Grocery Store</td>\n",
       "      <td>Food</td>\n",
       "      <td>Afghanistan</td>\n",
       "      <td>34.0</td>\n",
       "      <td>38</td>\n",
       "      <td>monthly</td>\n",
       "      <td>field_partner</td>\n",
       "      <td>1.0</td>\n",
       "      <td>0.0</td>\n",
       "      <td>1</td>\n",
       "    </tr>\n",
       "    <tr>\n",
       "      <th>1</th>\n",
       "      <td>1541219</td>\n",
       "      <td>English</td>\n",
       "      <td>150.0</td>\n",
       "      <td>Retail</td>\n",
       "      <td>Retail</td>\n",
       "      <td>Philippines</td>\n",
       "      <td>125.0</td>\n",
       "      <td>6</td>\n",
       "      <td>monthly</td>\n",
       "      <td>field_partner</td>\n",
       "      <td>0.0</td>\n",
       "      <td>1.0</td>\n",
       "      <td>1</td>\n",
       "    </tr>\n",
       "    <tr>\n",
       "      <th>2</th>\n",
       "      <td>549381</td>\n",
       "      <td>English</td>\n",
       "      <td>125.0</td>\n",
       "      <td>Vehicle Repairs</td>\n",
       "      <td>Services</td>\n",
       "      <td>Philippines</td>\n",
       "      <td>125.0</td>\n",
       "      <td>5</td>\n",
       "      <td>monthly</td>\n",
       "      <td>field_partner</td>\n",
       "      <td>0.0</td>\n",
       "      <td>1.0</td>\n",
       "      <td>1</td>\n",
       "    </tr>\n",
       "    <tr>\n",
       "      <th>3</th>\n",
       "      <td>1604539</td>\n",
       "      <td>English</td>\n",
       "      <td>1000.0</td>\n",
       "      <td>Tailoring</td>\n",
       "      <td>Services</td>\n",
       "      <td>Philippines</td>\n",
       "      <td>123.0</td>\n",
       "      <td>2</td>\n",
       "      <td>monthly</td>\n",
       "      <td>field_partner</td>\n",
       "      <td>1.0</td>\n",
       "      <td>0.0</td>\n",
       "      <td>1</td>\n",
       "    </tr>\n",
       "    <tr>\n",
       "      <th>4</th>\n",
       "      <td>117448</td>\n",
       "      <td>Spanish</td>\n",
       "      <td>300.0</td>\n",
       "      <td>General Store</td>\n",
       "      <td>Retail</td>\n",
       "      <td>El Salvador</td>\n",
       "      <td>167.0</td>\n",
       "      <td>11</td>\n",
       "      <td>monthly</td>\n",
       "      <td>field_partner</td>\n",
       "      <td>0.0</td>\n",
       "      <td>1.0</td>\n",
       "      <td>0</td>\n",
       "    </tr>\n",
       "  </tbody>\n",
       "</table>\n",
       "</div>"
      ],
      "text/plain": [
       "   Unnamed: 0 ORIGINAL_LANGUAGE  FUNDED_AMOUNT    ACTIVITY_NAME SECTOR_NAME  \\\n",
       "0      102097           English         1100.0    Grocery Store        Food   \n",
       "1     1541219           English          150.0           Retail      Retail   \n",
       "2      549381           English          125.0  Vehicle Repairs    Services   \n",
       "3     1604539           English         1000.0        Tailoring    Services   \n",
       "4      117448           Spanish          300.0    General Store      Retail   \n",
       "\n",
       "  COUNTRY_NAME  PARTNER_ID  NUM_LENDERS_TOTAL REPAYMENT_INTERVAL  \\\n",
       "0  Afghanistan        34.0                 38            monthly   \n",
       "1  Philippines       125.0                  6            monthly   \n",
       "2  Philippines       125.0                  5            monthly   \n",
       "3  Philippines       123.0                  2            monthly   \n",
       "4  El Salvador       167.0                 11            monthly   \n",
       "\n",
       "  DISTRIBUTION_MODEL  MALE  FEMALE  SUCCESS  \n",
       "0      field_partner   1.0     0.0        1  \n",
       "1      field_partner   0.0     1.0        1  \n",
       "2      field_partner   0.0     1.0        1  \n",
       "3      field_partner   1.0     0.0        1  \n",
       "4      field_partner   0.0     1.0        0  "
      ]
     },
     "execution_count": 3,
     "metadata": {},
     "output_type": "execute_result"
    }
   ],
   "source": [
    "# Load the data\n",
    "file_path = Path('C:/Users/esobieski/Documents/Berkeley/TeamPySpark/bc_df.csv')\n",
    "bc_df = pd.read_csv(file_path)  \n",
    "bc_df.head(5)"
   ]
  },
  {
   "cell_type": "markdown",
   "metadata": {},
   "source": [
    "# Prepare data for machine learning models that will use binary classification"
   ]
  },
  {
   "cell_type": "markdown",
   "metadata": {},
   "source": [
    "For logistic regression, our binary classification is that a successful borrowing event results in full funding within 12 days.  An unsucessful event would be funding taking longer than 12 days, as a reflection of less lender enthusiasm to fund the loan.  This removes the issue in the data that 99%+ of loans get funded and thus the data is very unbalanced if you just look at funding vs didn't fund.  "
   ]
  },
  {
   "cell_type": "code",
   "execution_count": 4,
   "metadata": {},
   "outputs": [],
   "source": [
    "# Create our features  \n",
    "\n",
    "X = bc_df.copy()\n",
    "X = X.drop('SUCCESS', axis=1)\n",
    "\n",
    "# Create our target\n",
    "y = bc_df[['SUCCESS']]"
   ]
  },
  {
   "cell_type": "code",
   "execution_count": 5,
   "metadata": {},
   "outputs": [
    {
     "data": {
      "text/html": [
       "<div>\n",
       "<style scoped>\n",
       "    .dataframe tbody tr th:only-of-type {\n",
       "        vertical-align: middle;\n",
       "    }\n",
       "\n",
       "    .dataframe tbody tr th {\n",
       "        vertical-align: top;\n",
       "    }\n",
       "\n",
       "    .dataframe thead th {\n",
       "        text-align: right;\n",
       "    }\n",
       "</style>\n",
       "<table border=\"1\" class=\"dataframe\">\n",
       "  <thead>\n",
       "    <tr style=\"text-align: right;\">\n",
       "      <th></th>\n",
       "      <th>Unnamed: 0</th>\n",
       "      <th>FUNDED_AMOUNT</th>\n",
       "      <th>PARTNER_ID</th>\n",
       "      <th>NUM_LENDERS_TOTAL</th>\n",
       "      <th>MALE</th>\n",
       "      <th>FEMALE</th>\n",
       "    </tr>\n",
       "  </thead>\n",
       "  <tbody>\n",
       "    <tr>\n",
       "      <th>count</th>\n",
       "      <td>8.918800e+04</td>\n",
       "      <td>89188.000000</td>\n",
       "      <td>89188.000000</td>\n",
       "      <td>89188.000000</td>\n",
       "      <td>89188.000000</td>\n",
       "      <td>89188.000000</td>\n",
       "    </tr>\n",
       "    <tr>\n",
       "      <th>mean</th>\n",
       "      <td>9.701622e+05</td>\n",
       "      <td>781.656165</td>\n",
       "      <td>165.761179</td>\n",
       "      <td>21.653754</td>\n",
       "      <td>0.374019</td>\n",
       "      <td>1.601325</td>\n",
       "    </tr>\n",
       "    <tr>\n",
       "      <th>std</th>\n",
       "      <td>5.611018e+05</td>\n",
       "      <td>2013.422640</td>\n",
       "      <td>104.358173</td>\n",
       "      <td>59.716169</td>\n",
       "      <td>1.010964</td>\n",
       "      <td>3.024326</td>\n",
       "    </tr>\n",
       "    <tr>\n",
       "      <th>min</th>\n",
       "      <td>1.000000e+00</td>\n",
       "      <td>25.000000</td>\n",
       "      <td>4.000000</td>\n",
       "      <td>1.000000</td>\n",
       "      <td>0.000000</td>\n",
       "      <td>0.000000</td>\n",
       "    </tr>\n",
       "    <tr>\n",
       "      <th>25%</th>\n",
       "      <td>4.841370e+05</td>\n",
       "      <td>275.000000</td>\n",
       "      <td>109.000000</td>\n",
       "      <td>8.000000</td>\n",
       "      <td>0.000000</td>\n",
       "      <td>1.000000</td>\n",
       "    </tr>\n",
       "    <tr>\n",
       "      <th>50%</th>\n",
       "      <td>9.716600e+05</td>\n",
       "      <td>500.000000</td>\n",
       "      <td>145.000000</td>\n",
       "      <td>14.000000</td>\n",
       "      <td>0.000000</td>\n",
       "      <td>1.000000</td>\n",
       "    </tr>\n",
       "    <tr>\n",
       "      <th>75%</th>\n",
       "      <td>1.457676e+06</td>\n",
       "      <td>925.000000</td>\n",
       "      <td>185.000000</td>\n",
       "      <td>26.000000</td>\n",
       "      <td>1.000000</td>\n",
       "      <td>1.000000</td>\n",
       "    </tr>\n",
       "    <tr>\n",
       "      <th>max</th>\n",
       "      <td>1.941971e+06</td>\n",
       "      <td>499975.000000</td>\n",
       "      <td>607.000000</td>\n",
       "      <td>15265.000000</td>\n",
       "      <td>34.000000</td>\n",
       "      <td>50.000000</td>\n",
       "    </tr>\n",
       "  </tbody>\n",
       "</table>\n",
       "</div>"
      ],
      "text/plain": [
       "         Unnamed: 0  FUNDED_AMOUNT    PARTNER_ID  NUM_LENDERS_TOTAL  \\\n",
       "count  8.918800e+04   89188.000000  89188.000000       89188.000000   \n",
       "mean   9.701622e+05     781.656165    165.761179          21.653754   \n",
       "std    5.611018e+05    2013.422640    104.358173          59.716169   \n",
       "min    1.000000e+00      25.000000      4.000000           1.000000   \n",
       "25%    4.841370e+05     275.000000    109.000000           8.000000   \n",
       "50%    9.716600e+05     500.000000    145.000000          14.000000   \n",
       "75%    1.457676e+06     925.000000    185.000000          26.000000   \n",
       "max    1.941971e+06  499975.000000    607.000000       15265.000000   \n",
       "\n",
       "               MALE        FEMALE  \n",
       "count  89188.000000  89188.000000  \n",
       "mean       0.374019      1.601325  \n",
       "std        1.010964      3.024326  \n",
       "min        0.000000      0.000000  \n",
       "25%        0.000000      1.000000  \n",
       "50%        0.000000      1.000000  \n",
       "75%        1.000000      1.000000  \n",
       "max       34.000000     50.000000  "
      ]
     },
     "execution_count": 5,
     "metadata": {},
     "output_type": "execute_result"
    }
   ],
   "source": [
    "# Describe X  -- MOST BORROWERS ARE SOLO FEMALES\n",
    "\n",
    "X.describe()"
   ]
  },
  {
   "cell_type": "code",
   "execution_count": 6,
   "metadata": {},
   "outputs": [
    {
     "data": {
      "text/html": [
       "<div>\n",
       "<style scoped>\n",
       "    .dataframe tbody tr th:only-of-type {\n",
       "        vertical-align: middle;\n",
       "    }\n",
       "\n",
       "    .dataframe tbody tr th {\n",
       "        vertical-align: top;\n",
       "    }\n",
       "\n",
       "    .dataframe thead th {\n",
       "        text-align: right;\n",
       "    }\n",
       "</style>\n",
       "<table border=\"1\" class=\"dataframe\">\n",
       "  <thead>\n",
       "    <tr style=\"text-align: right;\">\n",
       "      <th></th>\n",
       "      <th>SUCCESS</th>\n",
       "    </tr>\n",
       "  </thead>\n",
       "  <tbody>\n",
       "    <tr>\n",
       "      <th>0</th>\n",
       "      <td>1</td>\n",
       "    </tr>\n",
       "    <tr>\n",
       "      <th>1</th>\n",
       "      <td>1</td>\n",
       "    </tr>\n",
       "    <tr>\n",
       "      <th>2</th>\n",
       "      <td>1</td>\n",
       "    </tr>\n",
       "    <tr>\n",
       "      <th>3</th>\n",
       "      <td>1</td>\n",
       "    </tr>\n",
       "    <tr>\n",
       "      <th>4</th>\n",
       "      <td>0</td>\n",
       "    </tr>\n",
       "    <tr>\n",
       "      <th>...</th>\n",
       "      <td>...</td>\n",
       "    </tr>\n",
       "    <tr>\n",
       "      <th>89183</th>\n",
       "      <td>1</td>\n",
       "    </tr>\n",
       "    <tr>\n",
       "      <th>89184</th>\n",
       "      <td>1</td>\n",
       "    </tr>\n",
       "    <tr>\n",
       "      <th>89185</th>\n",
       "      <td>1</td>\n",
       "    </tr>\n",
       "    <tr>\n",
       "      <th>89186</th>\n",
       "      <td>0</td>\n",
       "    </tr>\n",
       "    <tr>\n",
       "      <th>89187</th>\n",
       "      <td>1</td>\n",
       "    </tr>\n",
       "  </tbody>\n",
       "</table>\n",
       "<p>89188 rows × 1 columns</p>\n",
       "</div>"
      ],
      "text/plain": [
       "       SUCCESS\n",
       "0            1\n",
       "1            1\n",
       "2            1\n",
       "3            1\n",
       "4            0\n",
       "...        ...\n",
       "89183        1\n",
       "89184        1\n",
       "89185        1\n",
       "89186        0\n",
       "89187        1\n",
       "\n",
       "[89188 rows x 1 columns]"
      ]
     },
     "execution_count": 6,
     "metadata": {},
     "output_type": "execute_result"
    }
   ],
   "source": [
    "# List out y\n",
    "\n",
    "y"
   ]
  },
  {
   "cell_type": "code",
   "execution_count": 7,
   "metadata": {},
   "outputs": [
    {
     "data": {
      "text/plain": [
       "1    57166\n",
       "0    32022\n",
       "Name: SUCCESS, dtype: int64"
      ]
     },
     "execution_count": 7,
     "metadata": {},
     "output_type": "execute_result"
    }
   ],
   "source": [
    "# Check the balance of our target values  \n",
    "# Used a calculated value of TIME TO FULL FUNDING using date stamps in prep for LOGISTIC REGRESSION\n",
    "# SUCCESS is funding in 12 days or less\n",
    "\n",
    "y['SUCCESS'].value_counts()"
   ]
  },
  {
   "cell_type": "code",
   "execution_count": 8,
   "metadata": {},
   "outputs": [
    {
     "data": {
      "text/html": [
       "<div>\n",
       "<style scoped>\n",
       "    .dataframe tbody tr th:only-of-type {\n",
       "        vertical-align: middle;\n",
       "    }\n",
       "\n",
       "    .dataframe tbody tr th {\n",
       "        vertical-align: top;\n",
       "    }\n",
       "\n",
       "    .dataframe thead th {\n",
       "        text-align: right;\n",
       "    }\n",
       "</style>\n",
       "<table border=\"1\" class=\"dataframe\">\n",
       "  <thead>\n",
       "    <tr style=\"text-align: right;\">\n",
       "      <th></th>\n",
       "      <th>Unnamed: 0</th>\n",
       "      <th>FUNDED_AMOUNT</th>\n",
       "      <th>PARTNER_ID</th>\n",
       "      <th>NUM_LENDERS_TOTAL</th>\n",
       "      <th>MALE</th>\n",
       "      <th>FEMALE</th>\n",
       "      <th>ORIGINAL_LANGUAGE_Arabic</th>\n",
       "      <th>ORIGINAL_LANGUAGE_English</th>\n",
       "      <th>ORIGINAL_LANGUAGE_French</th>\n",
       "      <th>ORIGINAL_LANGUAGE_Indonesian</th>\n",
       "      <th>...</th>\n",
       "      <th>COUNTRY_NAME_Ukraine</th>\n",
       "      <th>COUNTRY_NAME_United States</th>\n",
       "      <th>COUNTRY_NAME_Vietnam</th>\n",
       "      <th>COUNTRY_NAME_Yemen</th>\n",
       "      <th>COUNTRY_NAME_Zambia</th>\n",
       "      <th>COUNTRY_NAME_Zimbabwe</th>\n",
       "      <th>REPAYMENT_INTERVAL_bullet</th>\n",
       "      <th>REPAYMENT_INTERVAL_irregular</th>\n",
       "      <th>REPAYMENT_INTERVAL_monthly</th>\n",
       "      <th>DISTRIBUTION_MODEL_field_partner</th>\n",
       "    </tr>\n",
       "  </thead>\n",
       "  <tbody>\n",
       "    <tr>\n",
       "      <th>0</th>\n",
       "      <td>102097</td>\n",
       "      <td>1100.0</td>\n",
       "      <td>34.0</td>\n",
       "      <td>38</td>\n",
       "      <td>1.0</td>\n",
       "      <td>0.0</td>\n",
       "      <td>0</td>\n",
       "      <td>1</td>\n",
       "      <td>0</td>\n",
       "      <td>0</td>\n",
       "      <td>...</td>\n",
       "      <td>0</td>\n",
       "      <td>0</td>\n",
       "      <td>0</td>\n",
       "      <td>0</td>\n",
       "      <td>0</td>\n",
       "      <td>0</td>\n",
       "      <td>0</td>\n",
       "      <td>0</td>\n",
       "      <td>1</td>\n",
       "      <td>1</td>\n",
       "    </tr>\n",
       "    <tr>\n",
       "      <th>1</th>\n",
       "      <td>1541219</td>\n",
       "      <td>150.0</td>\n",
       "      <td>125.0</td>\n",
       "      <td>6</td>\n",
       "      <td>0.0</td>\n",
       "      <td>1.0</td>\n",
       "      <td>0</td>\n",
       "      <td>1</td>\n",
       "      <td>0</td>\n",
       "      <td>0</td>\n",
       "      <td>...</td>\n",
       "      <td>0</td>\n",
       "      <td>0</td>\n",
       "      <td>0</td>\n",
       "      <td>0</td>\n",
       "      <td>0</td>\n",
       "      <td>0</td>\n",
       "      <td>0</td>\n",
       "      <td>0</td>\n",
       "      <td>1</td>\n",
       "      <td>1</td>\n",
       "    </tr>\n",
       "    <tr>\n",
       "      <th>2</th>\n",
       "      <td>549381</td>\n",
       "      <td>125.0</td>\n",
       "      <td>125.0</td>\n",
       "      <td>5</td>\n",
       "      <td>0.0</td>\n",
       "      <td>1.0</td>\n",
       "      <td>0</td>\n",
       "      <td>1</td>\n",
       "      <td>0</td>\n",
       "      <td>0</td>\n",
       "      <td>...</td>\n",
       "      <td>0</td>\n",
       "      <td>0</td>\n",
       "      <td>0</td>\n",
       "      <td>0</td>\n",
       "      <td>0</td>\n",
       "      <td>0</td>\n",
       "      <td>0</td>\n",
       "      <td>0</td>\n",
       "      <td>1</td>\n",
       "      <td>1</td>\n",
       "    </tr>\n",
       "    <tr>\n",
       "      <th>3</th>\n",
       "      <td>1604539</td>\n",
       "      <td>1000.0</td>\n",
       "      <td>123.0</td>\n",
       "      <td>2</td>\n",
       "      <td>1.0</td>\n",
       "      <td>0.0</td>\n",
       "      <td>0</td>\n",
       "      <td>1</td>\n",
       "      <td>0</td>\n",
       "      <td>0</td>\n",
       "      <td>...</td>\n",
       "      <td>0</td>\n",
       "      <td>0</td>\n",
       "      <td>0</td>\n",
       "      <td>0</td>\n",
       "      <td>0</td>\n",
       "      <td>0</td>\n",
       "      <td>0</td>\n",
       "      <td>0</td>\n",
       "      <td>1</td>\n",
       "      <td>1</td>\n",
       "    </tr>\n",
       "    <tr>\n",
       "      <th>4</th>\n",
       "      <td>117448</td>\n",
       "      <td>300.0</td>\n",
       "      <td>167.0</td>\n",
       "      <td>11</td>\n",
       "      <td>0.0</td>\n",
       "      <td>1.0</td>\n",
       "      <td>0</td>\n",
       "      <td>0</td>\n",
       "      <td>0</td>\n",
       "      <td>0</td>\n",
       "      <td>...</td>\n",
       "      <td>0</td>\n",
       "      <td>0</td>\n",
       "      <td>0</td>\n",
       "      <td>0</td>\n",
       "      <td>0</td>\n",
       "      <td>0</td>\n",
       "      <td>0</td>\n",
       "      <td>0</td>\n",
       "      <td>1</td>\n",
       "      <td>1</td>\n",
       "    </tr>\n",
       "  </tbody>\n",
       "</table>\n",
       "<p>5 rows × 284 columns</p>\n",
       "</div>"
      ],
      "text/plain": [
       "   Unnamed: 0  FUNDED_AMOUNT  PARTNER_ID  NUM_LENDERS_TOTAL  MALE  FEMALE  \\\n",
       "0      102097         1100.0        34.0                 38   1.0     0.0   \n",
       "1     1541219          150.0       125.0                  6   0.0     1.0   \n",
       "2      549381          125.0       125.0                  5   0.0     1.0   \n",
       "3     1604539         1000.0       123.0                  2   1.0     0.0   \n",
       "4      117448          300.0       167.0                 11   0.0     1.0   \n",
       "\n",
       "   ORIGINAL_LANGUAGE_Arabic  ORIGINAL_LANGUAGE_English  \\\n",
       "0                         0                          1   \n",
       "1                         0                          1   \n",
       "2                         0                          1   \n",
       "3                         0                          1   \n",
       "4                         0                          0   \n",
       "\n",
       "   ORIGINAL_LANGUAGE_French  ORIGINAL_LANGUAGE_Indonesian  ...  \\\n",
       "0                         0                             0  ...   \n",
       "1                         0                             0  ...   \n",
       "2                         0                             0  ...   \n",
       "3                         0                             0  ...   \n",
       "4                         0                             0  ...   \n",
       "\n",
       "   COUNTRY_NAME_Ukraine  COUNTRY_NAME_United States  COUNTRY_NAME_Vietnam  \\\n",
       "0                     0                           0                     0   \n",
       "1                     0                           0                     0   \n",
       "2                     0                           0                     0   \n",
       "3                     0                           0                     0   \n",
       "4                     0                           0                     0   \n",
       "\n",
       "   COUNTRY_NAME_Yemen  COUNTRY_NAME_Zambia  COUNTRY_NAME_Zimbabwe  \\\n",
       "0                   0                    0                      0   \n",
       "1                   0                    0                      0   \n",
       "2                   0                    0                      0   \n",
       "3                   0                    0                      0   \n",
       "4                   0                    0                      0   \n",
       "\n",
       "   REPAYMENT_INTERVAL_bullet  REPAYMENT_INTERVAL_irregular  \\\n",
       "0                          0                             0   \n",
       "1                          0                             0   \n",
       "2                          0                             0   \n",
       "3                          0                             0   \n",
       "4                          0                             0   \n",
       "\n",
       "   REPAYMENT_INTERVAL_monthly  DISTRIBUTION_MODEL_field_partner  \n",
       "0                           1                                 1  \n",
       "1                           1                                 1  \n",
       "2                           1                                 1  \n",
       "3                           1                                 1  \n",
       "4                           1                                 1  \n",
       "\n",
       "[5 rows x 284 columns]"
      ]
     },
     "execution_count": 8,
     "metadata": {},
     "output_type": "execute_result"
    }
   ],
   "source": [
    "# Encode Labels using Get Dummies\n",
    "\n",
    "X = pd.get_dummies(X)\n",
    "X.head()"
   ]
  },
  {
   "cell_type": "markdown",
   "metadata": {},
   "source": [
    "# Train-Test split for Binary Classification (BC)"
   ]
  },
  {
   "cell_type": "code",
   "execution_count": 9,
   "metadata": {},
   "outputs": [],
   "source": [
    "# ADD TRAIN-TEST SPLIT AFTER GETTING DUMMIES AND BEFORE SCALING\n",
    "# Dataset is split into training and testing sets\n",
    "X_train, X_test, y_train, y_test = train_test_split(X,\n",
    "    y, random_state=1, stratify=y)"
   ]
  },
  {
   "cell_type": "markdown",
   "metadata": {},
   "source": [
    "# Scaling X_train and X_test for Binary Classification (BC)"
   ]
  },
  {
   "cell_type": "code",
   "execution_count": 10,
   "metadata": {},
   "outputs": [
    {
     "name": "stdout",
     "output_type": "stream",
     "text": [
      "[[-1.65051091  0.06289566 -0.58352357 ... -0.20975552 -2.55576252\n",
      "   0.        ]\n",
      " [ 1.22049967  0.30837014 -0.19029816 ... -0.20975552  0.39127266\n",
      "   0.        ]\n",
      " [ 0.4352047  -0.2830002   1.39219435 ... -0.20975552  0.39127266\n",
      "   0.        ]\n",
      " [ 1.16626083 -0.24952641 -0.39170629 ... -0.20975552 -2.55576252\n",
      "   0.        ]\n",
      " [ 0.92943056 -0.26068434 -0.26702507 ... -0.20975552  0.39127266\n",
      "   0.        ]]\n"
     ]
    }
   ],
   "source": [
    "# SCALING X_TRAIN STEP \n",
    "X_train_scaled = StandardScaler().fit_transform(X_train)\n",
    "print(X_train_scaled[0:5])"
   ]
  },
  {
   "cell_type": "code",
   "execution_count": 11,
   "metadata": {},
   "outputs": [
    {
     "name": "stdout",
     "output_type": "stream",
     "text": [
      "[[-0.95602246 -0.53447836 -0.09098467 ... -0.21245991  0.3845136\n",
      "   0.        ]\n",
      " [-0.04463413 -0.13900886  2.78576956 ... -0.21245991 -2.60068825\n",
      "   0.        ]\n",
      " [ 0.61417544 -0.20879759 -1.49591115 ... -0.21245991  0.3845136\n",
      "   0.        ]\n",
      " [-1.08757661  0.11688317 -0.62619476 ... -0.21245991  0.3845136\n",
      "   0.        ]\n",
      " [ 0.3441734  -0.60426709 -0.28213113 ... -0.21245991  0.3845136\n",
      "   0.        ]]\n"
     ]
    }
   ],
   "source": [
    "# SCALING X_TEST STEP HERE \n",
    "X_test_scaled = StandardScaler().fit_transform(X_test)\n",
    "print(X_test_scaled[0:5])"
   ]
  },
  {
   "cell_type": "markdown",
   "metadata": {},
   "source": [
    "# SAMPLING TECHNIQUES (inputting scaled X and y)"
   ]
  },
  {
   "cell_type": "markdown",
   "metadata": {},
   "source": [
    "Oversampling: because \"y\" is very right skewed leading to 50% of the data in one of 6 one-week buckets, thus model performance is 50%.  When it is 2 buckets, set at the mean of 12 days, then model performance is 69%, equal to the amount of \"y\" data in the 1 position, so again model is not effective, same prediction as the distribution of \"y\" data."
   ]
  },
  {
   "cell_type": "markdown",
   "metadata": {},
   "source": [
    "# Random Oversampling "
   ]
  },
  {
   "cell_type": "code",
   "execution_count": 12,
   "metadata": {},
   "outputs": [
    {
     "data": {
      "text/plain": [
       "Counter({'SUCCESS': 1})"
      ]
     },
     "execution_count": 12,
     "metadata": {},
     "output_type": "execute_result"
    }
   ],
   "source": [
    "# Check imbalance in y\n",
    "Counter(y_train)"
   ]
  },
  {
   "cell_type": "code",
   "execution_count": 13,
   "metadata": {},
   "outputs": [
    {
     "data": {
      "text/plain": [
       "Counter({'SUCCESS': 1})"
      ]
     },
     "execution_count": 13,
     "metadata": {},
     "output_type": "execute_result"
    }
   ],
   "source": [
    "# Random oversampling to rebalance\n",
    "ros = RandomOverSampler(random_state=1)\n",
    "X_resampled, y_resampled = ros.fit_resample(X_train_scaled, y_train)\n",
    "\n",
    "# Check on how much Y was rebalanced for Random oversampling\n",
    "Counter(y_resampled)"
   ]
  },
  {
   "cell_type": "code",
   "execution_count": 14,
   "metadata": {},
   "outputs": [
    {
     "data": {
      "text/html": [
       "<div>\n",
       "<style scoped>\n",
       "    .dataframe tbody tr th:only-of-type {\n",
       "        vertical-align: middle;\n",
       "    }\n",
       "\n",
       "    .dataframe tbody tr th {\n",
       "        vertical-align: top;\n",
       "    }\n",
       "\n",
       "    .dataframe thead th {\n",
       "        text-align: right;\n",
       "    }\n",
       "</style>\n",
       "<table border=\"1\" class=\"dataframe\">\n",
       "  <thead>\n",
       "    <tr style=\"text-align: right;\">\n",
       "      <th></th>\n",
       "      <th>SUCCESS</th>\n",
       "    </tr>\n",
       "  </thead>\n",
       "  <tbody>\n",
       "    <tr>\n",
       "      <th>0</th>\n",
       "      <td>1</td>\n",
       "    </tr>\n",
       "    <tr>\n",
       "      <th>1</th>\n",
       "      <td>1</td>\n",
       "    </tr>\n",
       "    <tr>\n",
       "      <th>2</th>\n",
       "      <td>1</td>\n",
       "    </tr>\n",
       "    <tr>\n",
       "      <th>3</th>\n",
       "      <td>1</td>\n",
       "    </tr>\n",
       "    <tr>\n",
       "      <th>4</th>\n",
       "      <td>1</td>\n",
       "    </tr>\n",
       "    <tr>\n",
       "      <th>...</th>\n",
       "      <td>...</td>\n",
       "    </tr>\n",
       "    <tr>\n",
       "      <th>85743</th>\n",
       "      <td>0</td>\n",
       "    </tr>\n",
       "    <tr>\n",
       "      <th>85744</th>\n",
       "      <td>0</td>\n",
       "    </tr>\n",
       "    <tr>\n",
       "      <th>85745</th>\n",
       "      <td>0</td>\n",
       "    </tr>\n",
       "    <tr>\n",
       "      <th>85746</th>\n",
       "      <td>0</td>\n",
       "    </tr>\n",
       "    <tr>\n",
       "      <th>85747</th>\n",
       "      <td>0</td>\n",
       "    </tr>\n",
       "  </tbody>\n",
       "</table>\n",
       "<p>85748 rows × 1 columns</p>\n",
       "</div>"
      ],
      "text/plain": [
       "       SUCCESS\n",
       "0            1\n",
       "1            1\n",
       "2            1\n",
       "3            1\n",
       "4            1\n",
       "...        ...\n",
       "85743        0\n",
       "85744        0\n",
       "85745        0\n",
       "85746        0\n",
       "85747        0\n",
       "\n",
       "[85748 rows x 1 columns]"
      ]
     },
     "execution_count": 14,
     "metadata": {},
     "output_type": "execute_result"
    }
   ],
   "source": [
    "y_resampled"
   ]
  },
  {
   "cell_type": "markdown",
   "metadata": {},
   "source": [
    "# Resampling: combination oversampling and undersampling with SMOTEEN.  Commented out because not enough performance boost for multiples of compute time."
   ]
  },
  {
   "cell_type": "code",
   "execution_count": 15,
   "metadata": {},
   "outputs": [],
   "source": [
    "# # Resampling: combination oversampling and undersampling with SMOTEEN on binary classification model\n",
    "# smote_enn = SMOTEENN(random_state=0)\n",
    "# X_resampled, y_resampled = smote_enn.fit_resample(X_train_scaled, y_train)\n",
    "\n",
    "# # See results of SMOTEEN Resampling\n",
    "# Counter(y_resampled)"
   ]
  },
  {
   "cell_type": "markdown",
   "metadata": {},
   "source": [
    "# Run PCA on Binary Classification model"
   ]
  },
  {
   "cell_type": "code",
   "execution_count": 16,
   "metadata": {},
   "outputs": [],
   "source": [
    "# PCA model intialization 277 columns, reducing complexity\n",
    "pca = PCA(n_components=32)"
   ]
  },
  {
   "cell_type": "code",
   "execution_count": 17,
   "metadata": {},
   "outputs": [],
   "source": [
    "# PCA fit and transform for training\n",
    "train_loans_pca = pca.fit_transform(X_train_scaled)"
   ]
  },
  {
   "cell_type": "code",
   "execution_count": 18,
   "metadata": {},
   "outputs": [
    {
     "data": {
      "text/html": [
       "<div>\n",
       "<style scoped>\n",
       "    .dataframe tbody tr th:only-of-type {\n",
       "        vertical-align: middle;\n",
       "    }\n",
       "\n",
       "    .dataframe tbody tr th {\n",
       "        vertical-align: top;\n",
       "    }\n",
       "\n",
       "    .dataframe thead th {\n",
       "        text-align: right;\n",
       "    }\n",
       "</style>\n",
       "<table border=\"1\" class=\"dataframe\">\n",
       "  <thead>\n",
       "    <tr style=\"text-align: right;\">\n",
       "      <th></th>\n",
       "      <th>0</th>\n",
       "      <th>1</th>\n",
       "      <th>2</th>\n",
       "      <th>3</th>\n",
       "      <th>4</th>\n",
       "      <th>5</th>\n",
       "      <th>6</th>\n",
       "      <th>7</th>\n",
       "      <th>8</th>\n",
       "      <th>9</th>\n",
       "      <th>...</th>\n",
       "      <th>22</th>\n",
       "      <th>23</th>\n",
       "      <th>24</th>\n",
       "      <th>25</th>\n",
       "      <th>26</th>\n",
       "      <th>27</th>\n",
       "      <th>28</th>\n",
       "      <th>29</th>\n",
       "      <th>30</th>\n",
       "      <th>31</th>\n",
       "    </tr>\n",
       "  </thead>\n",
       "  <tbody>\n",
       "    <tr>\n",
       "      <th>0</th>\n",
       "      <td>1.653393</td>\n",
       "      <td>-1.828051</td>\n",
       "      <td>-0.321642</td>\n",
       "      <td>-0.903934</td>\n",
       "      <td>0.758961</td>\n",
       "      <td>-0.470528</td>\n",
       "      <td>-0.400863</td>\n",
       "      <td>0.157932</td>\n",
       "      <td>-0.296038</td>\n",
       "      <td>-0.416230</td>\n",
       "      <td>...</td>\n",
       "      <td>1.394063</td>\n",
       "      <td>-1.074494</td>\n",
       "      <td>-0.077777</td>\n",
       "      <td>0.488513</td>\n",
       "      <td>-0.166559</td>\n",
       "      <td>0.097130</td>\n",
       "      <td>-0.116913</td>\n",
       "      <td>-0.544173</td>\n",
       "      <td>0.539636</td>\n",
       "      <td>-0.844476</td>\n",
       "    </tr>\n",
       "    <tr>\n",
       "      <th>1</th>\n",
       "      <td>4.157745</td>\n",
       "      <td>1.232101</td>\n",
       "      <td>-0.387643</td>\n",
       "      <td>-1.497846</td>\n",
       "      <td>-0.839095</td>\n",
       "      <td>-0.059351</td>\n",
       "      <td>-1.374155</td>\n",
       "      <td>0.189478</td>\n",
       "      <td>0.091750</td>\n",
       "      <td>-0.460244</td>\n",
       "      <td>...</td>\n",
       "      <td>-1.022818</td>\n",
       "      <td>1.129464</td>\n",
       "      <td>0.088889</td>\n",
       "      <td>-0.403046</td>\n",
       "      <td>0.916579</td>\n",
       "      <td>0.534934</td>\n",
       "      <td>1.051205</td>\n",
       "      <td>0.978721</td>\n",
       "      <td>-0.041353</td>\n",
       "      <td>-0.063715</td>\n",
       "    </tr>\n",
       "    <tr>\n",
       "      <th>2</th>\n",
       "      <td>1.505645</td>\n",
       "      <td>-1.735546</td>\n",
       "      <td>0.005210</td>\n",
       "      <td>0.054408</td>\n",
       "      <td>-0.261666</td>\n",
       "      <td>-0.137490</td>\n",
       "      <td>-0.460864</td>\n",
       "      <td>-0.443596</td>\n",
       "      <td>0.199964</td>\n",
       "      <td>-0.350560</td>\n",
       "      <td>...</td>\n",
       "      <td>1.434525</td>\n",
       "      <td>0.409403</td>\n",
       "      <td>-0.745082</td>\n",
       "      <td>0.144515</td>\n",
       "      <td>-0.109409</td>\n",
       "      <td>-0.132328</td>\n",
       "      <td>-0.515280</td>\n",
       "      <td>-0.264440</td>\n",
       "      <td>0.325695</td>\n",
       "      <td>-0.586698</td>\n",
       "    </tr>\n",
       "    <tr>\n",
       "      <th>3</th>\n",
       "      <td>1.711824</td>\n",
       "      <td>-1.052999</td>\n",
       "      <td>1.122125</td>\n",
       "      <td>-0.515712</td>\n",
       "      <td>1.450792</td>\n",
       "      <td>-0.268460</td>\n",
       "      <td>0.279000</td>\n",
       "      <td>-0.828542</td>\n",
       "      <td>-0.858724</td>\n",
       "      <td>0.531137</td>\n",
       "      <td>...</td>\n",
       "      <td>1.022701</td>\n",
       "      <td>0.105597</td>\n",
       "      <td>0.089688</td>\n",
       "      <td>0.790038</td>\n",
       "      <td>0.759182</td>\n",
       "      <td>0.858358</td>\n",
       "      <td>-0.138548</td>\n",
       "      <td>-0.478965</td>\n",
       "      <td>0.150287</td>\n",
       "      <td>-1.108563</td>\n",
       "    </tr>\n",
       "    <tr>\n",
       "      <th>4</th>\n",
       "      <td>0.907031</td>\n",
       "      <td>-1.897766</td>\n",
       "      <td>-0.252942</td>\n",
       "      <td>-1.489939</td>\n",
       "      <td>0.590424</td>\n",
       "      <td>-0.319982</td>\n",
       "      <td>-0.424242</td>\n",
       "      <td>-0.060309</td>\n",
       "      <td>-0.193652</td>\n",
       "      <td>-0.285662</td>\n",
       "      <td>...</td>\n",
       "      <td>0.286219</td>\n",
       "      <td>-0.166439</td>\n",
       "      <td>0.010761</td>\n",
       "      <td>0.323917</td>\n",
       "      <td>0.101242</td>\n",
       "      <td>0.032686</td>\n",
       "      <td>0.088891</td>\n",
       "      <td>-0.096498</td>\n",
       "      <td>0.172166</td>\n",
       "      <td>-0.268599</td>\n",
       "    </tr>\n",
       "  </tbody>\n",
       "</table>\n",
       "<p>5 rows × 32 columns</p>\n",
       "</div>"
      ],
      "text/plain": [
       "         0         1         2         3         4         5         6   \\\n",
       "0  1.653393 -1.828051 -0.321642 -0.903934  0.758961 -0.470528 -0.400863   \n",
       "1  4.157745  1.232101 -0.387643 -1.497846 -0.839095 -0.059351 -1.374155   \n",
       "2  1.505645 -1.735546  0.005210  0.054408 -0.261666 -0.137490 -0.460864   \n",
       "3  1.711824 -1.052999  1.122125 -0.515712  1.450792 -0.268460  0.279000   \n",
       "4  0.907031 -1.897766 -0.252942 -1.489939  0.590424 -0.319982 -0.424242   \n",
       "\n",
       "         7         8         9   ...        22        23        24        25  \\\n",
       "0  0.157932 -0.296038 -0.416230  ...  1.394063 -1.074494 -0.077777  0.488513   \n",
       "1  0.189478  0.091750 -0.460244  ... -1.022818  1.129464  0.088889 -0.403046   \n",
       "2 -0.443596  0.199964 -0.350560  ...  1.434525  0.409403 -0.745082  0.144515   \n",
       "3 -0.828542 -0.858724  0.531137  ...  1.022701  0.105597  0.089688  0.790038   \n",
       "4 -0.060309 -0.193652 -0.285662  ...  0.286219 -0.166439  0.010761  0.323917   \n",
       "\n",
       "         26        27        28        29        30        31  \n",
       "0 -0.166559  0.097130 -0.116913 -0.544173  0.539636 -0.844476  \n",
       "1  0.916579  0.534934  1.051205  0.978721 -0.041353 -0.063715  \n",
       "2 -0.109409 -0.132328 -0.515280 -0.264440  0.325695 -0.586698  \n",
       "3  0.759182  0.858358 -0.138548 -0.478965  0.150287 -1.108563  \n",
       "4  0.101242  0.032686  0.088891 -0.096498  0.172166 -0.268599  \n",
       "\n",
       "[5 rows x 32 columns]"
      ]
     },
     "execution_count": 18,
     "metadata": {},
     "output_type": "execute_result"
    }
   ],
   "source": [
    "# Transform testing data using PCA to a DataFrame \n",
    "test_loans_pca = pca.transform(X_test_scaled)\n",
    "X_test_pca_df = pd.DataFrame(data=test_loans_pca)\n",
    "X_test_pca_df.head(5)"
   ]
  },
  {
   "cell_type": "code",
   "execution_count": 19,
   "metadata": {},
   "outputs": [
    {
     "data": {
      "text/html": [
       "<div>\n",
       "<style scoped>\n",
       "    .dataframe tbody tr th:only-of-type {\n",
       "        vertical-align: middle;\n",
       "    }\n",
       "\n",
       "    .dataframe tbody tr th {\n",
       "        vertical-align: top;\n",
       "    }\n",
       "\n",
       "    .dataframe thead th {\n",
       "        text-align: right;\n",
       "    }\n",
       "</style>\n",
       "<table border=\"1\" class=\"dataframe\">\n",
       "  <thead>\n",
       "    <tr style=\"text-align: right;\">\n",
       "      <th></th>\n",
       "      <th>0</th>\n",
       "      <th>1</th>\n",
       "      <th>2</th>\n",
       "      <th>3</th>\n",
       "      <th>4</th>\n",
       "      <th>5</th>\n",
       "      <th>6</th>\n",
       "      <th>7</th>\n",
       "      <th>8</th>\n",
       "      <th>9</th>\n",
       "      <th>...</th>\n",
       "      <th>22</th>\n",
       "      <th>23</th>\n",
       "      <th>24</th>\n",
       "      <th>25</th>\n",
       "      <th>26</th>\n",
       "      <th>27</th>\n",
       "      <th>28</th>\n",
       "      <th>29</th>\n",
       "      <th>30</th>\n",
       "      <th>31</th>\n",
       "    </tr>\n",
       "  </thead>\n",
       "  <tbody>\n",
       "    <tr>\n",
       "      <th>0</th>\n",
       "      <td>2.093313</td>\n",
       "      <td>3.015578</td>\n",
       "      <td>-4.875729</td>\n",
       "      <td>-0.720803</td>\n",
       "      <td>-0.330164</td>\n",
       "      <td>3.531430</td>\n",
       "      <td>2.777607</td>\n",
       "      <td>0.585727</td>\n",
       "      <td>0.476394</td>\n",
       "      <td>1.420963</td>\n",
       "      <td>...</td>\n",
       "      <td>-2.530509</td>\n",
       "      <td>1.651795</td>\n",
       "      <td>-0.953039</td>\n",
       "      <td>0.080486</td>\n",
       "      <td>0.015037</td>\n",
       "      <td>-0.688840</td>\n",
       "      <td>-0.570678</td>\n",
       "      <td>-0.290485</td>\n",
       "      <td>-1.570569</td>\n",
       "      <td>-0.644882</td>\n",
       "    </tr>\n",
       "    <tr>\n",
       "      <th>1</th>\n",
       "      <td>-0.182816</td>\n",
       "      <td>-1.015818</td>\n",
       "      <td>2.512122</td>\n",
       "      <td>2.374156</td>\n",
       "      <td>2.550709</td>\n",
       "      <td>0.911260</td>\n",
       "      <td>1.876432</td>\n",
       "      <td>-0.293834</td>\n",
       "      <td>2.455743</td>\n",
       "      <td>-2.559733</td>\n",
       "      <td>...</td>\n",
       "      <td>0.353918</td>\n",
       "      <td>-0.060283</td>\n",
       "      <td>-2.008904</td>\n",
       "      <td>2.294666</td>\n",
       "      <td>-1.265357</td>\n",
       "      <td>-0.986274</td>\n",
       "      <td>-1.215606</td>\n",
       "      <td>0.421507</td>\n",
       "      <td>-0.236215</td>\n",
       "      <td>-1.112425</td>\n",
       "    </tr>\n",
       "    <tr>\n",
       "      <th>2</th>\n",
       "      <td>0.210223</td>\n",
       "      <td>-3.136989</td>\n",
       "      <td>-0.477267</td>\n",
       "      <td>4.761312</td>\n",
       "      <td>-4.678685</td>\n",
       "      <td>1.587249</td>\n",
       "      <td>-1.664070</td>\n",
       "      <td>-2.397286</td>\n",
       "      <td>0.500933</td>\n",
       "      <td>0.561777</td>\n",
       "      <td>...</td>\n",
       "      <td>1.186723</td>\n",
       "      <td>1.064479</td>\n",
       "      <td>-0.361524</td>\n",
       "      <td>-0.365923</td>\n",
       "      <td>-0.063348</td>\n",
       "      <td>-0.409270</td>\n",
       "      <td>-0.774554</td>\n",
       "      <td>0.202080</td>\n",
       "      <td>0.032890</td>\n",
       "      <td>-0.408957</td>\n",
       "    </tr>\n",
       "    <tr>\n",
       "      <th>3</th>\n",
       "      <td>3.488715</td>\n",
       "      <td>-1.880091</td>\n",
       "      <td>-0.790174</td>\n",
       "      <td>-1.668218</td>\n",
       "      <td>0.432650</td>\n",
       "      <td>-0.094493</td>\n",
       "      <td>-0.119330</td>\n",
       "      <td>0.279598</td>\n",
       "      <td>0.280553</td>\n",
       "      <td>-0.345560</td>\n",
       "      <td>...</td>\n",
       "      <td>-0.751256</td>\n",
       "      <td>0.427059</td>\n",
       "      <td>0.299095</td>\n",
       "      <td>0.216486</td>\n",
       "      <td>0.243104</td>\n",
       "      <td>-0.281438</td>\n",
       "      <td>0.091415</td>\n",
       "      <td>-0.022670</td>\n",
       "      <td>0.041330</td>\n",
       "      <td>-0.071348</td>\n",
       "    </tr>\n",
       "    <tr>\n",
       "      <th>4</th>\n",
       "      <td>-0.668356</td>\n",
       "      <td>-0.194415</td>\n",
       "      <td>-0.069559</td>\n",
       "      <td>1.068680</td>\n",
       "      <td>0.473101</td>\n",
       "      <td>0.261580</td>\n",
       "      <td>0.437259</td>\n",
       "      <td>-0.431339</td>\n",
       "      <td>-3.476768</td>\n",
       "      <td>-3.640262</td>\n",
       "      <td>...</td>\n",
       "      <td>-0.298781</td>\n",
       "      <td>-0.271568</td>\n",
       "      <td>0.072951</td>\n",
       "      <td>0.231726</td>\n",
       "      <td>0.271688</td>\n",
       "      <td>-0.415495</td>\n",
       "      <td>-0.501856</td>\n",
       "      <td>-0.361927</td>\n",
       "      <td>0.144321</td>\n",
       "      <td>-0.359491</td>\n",
       "    </tr>\n",
       "  </tbody>\n",
       "</table>\n",
       "<p>5 rows × 32 columns</p>\n",
       "</div>"
      ],
      "text/plain": [
       "         0         1         2         3         4         5         6   \\\n",
       "0  2.093313  3.015578 -4.875729 -0.720803 -0.330164  3.531430  2.777607   \n",
       "1 -0.182816 -1.015818  2.512122  2.374156  2.550709  0.911260  1.876432   \n",
       "2  0.210223 -3.136989 -0.477267  4.761312 -4.678685  1.587249 -1.664070   \n",
       "3  3.488715 -1.880091 -0.790174 -1.668218  0.432650 -0.094493 -0.119330   \n",
       "4 -0.668356 -0.194415 -0.069559  1.068680  0.473101  0.261580  0.437259   \n",
       "\n",
       "         7         8         9   ...        22        23        24        25  \\\n",
       "0  0.585727  0.476394  1.420963  ... -2.530509  1.651795 -0.953039  0.080486   \n",
       "1 -0.293834  2.455743 -2.559733  ...  0.353918 -0.060283 -2.008904  2.294666   \n",
       "2 -2.397286  0.500933  0.561777  ...  1.186723  1.064479 -0.361524 -0.365923   \n",
       "3  0.279598  0.280553 -0.345560  ... -0.751256  0.427059  0.299095  0.216486   \n",
       "4 -0.431339 -3.476768 -3.640262  ... -0.298781 -0.271568  0.072951  0.231726   \n",
       "\n",
       "         26        27        28        29        30        31  \n",
       "0  0.015037 -0.688840 -0.570678 -0.290485 -1.570569 -0.644882  \n",
       "1 -1.265357 -0.986274 -1.215606  0.421507 -0.236215 -1.112425  \n",
       "2 -0.063348 -0.409270 -0.774554  0.202080  0.032890 -0.408957  \n",
       "3  0.243104 -0.281438  0.091415 -0.022670  0.041330 -0.071348  \n",
       "4  0.271688 -0.415495 -0.501856 -0.361927  0.144321 -0.359491  \n",
       "\n",
       "[5 rows x 32 columns]"
      ]
     },
     "execution_count": 19,
     "metadata": {},
     "output_type": "execute_result"
    }
   ],
   "source": [
    "# transform PCA data to a DataFrame \n",
    "X_train_pca_df = pd.DataFrame(data=train_loans_pca)\n",
    "X_train_pca_df.head(5)"
   ]
  },
  {
   "cell_type": "code",
   "execution_count": 20,
   "metadata": {},
   "outputs": [
    {
     "data": {
      "text/plain": [
       "0.21150654015045633"
      ]
     },
     "execution_count": 20,
     "metadata": {},
     "output_type": "execute_result"
    }
   ],
   "source": [
    "# See explained variance ratio sum - Optimized to explain as much as possible - 225 components is ideal at 95%, no one feature explains \n",
    "# All features are equally important  - 10 features = 9%  - 100 features 50%  -\n",
    "# Mostly linear relationship number of features and explainabilty\n",
    "# PCA DID NOT HELP, WHEN IT REDUCES THE NUMBER OF FEATURES IT ALSO REDUCES EXPLAINABILITY IN A NEARLY LINEAR RELATIONSHIP\n",
    "# THIS ALSO SHOWED UP IN THE ML MODELS, WHERE USING X-SCALED WAS BETTER THAN THE PCA VERSION.\n",
    "sum(pca.explained_variance_ratio_)"
   ]
  },
  {
   "cell_type": "markdown",
   "metadata": {},
   "source": [
    "# Run Logistic Regression on SUCCESS (binary classification of y) and Analyze Results"
   ]
  },
  {
   "cell_type": "code",
   "execution_count": 21,
   "metadata": {},
   "outputs": [
    {
     "data": {
      "text/plain": [
       "LogisticRegression(random_state=1)"
      ]
     },
     "execution_count": 21,
     "metadata": {},
     "output_type": "execute_result"
    }
   ],
   "source": [
    "# Instantiate a Logistic Regression Model, Step 1 of 2\n",
    "classifier = LogisticRegression(solver='lbfgs', random_state=1)\n",
    "classifier"
   ]
  },
  {
   "cell_type": "code",
   "execution_count": 22,
   "metadata": {},
   "outputs": [
    {
     "data": {
      "text/plain": [
       "LogisticRegression(multi_class='warn', penalty='12', random_state=1)"
      ]
     },
     "execution_count": 22,
     "metadata": {},
     "output_type": "execute_result"
    }
   ],
   "source": [
    "# Instantiate a Logistic Regression Model, Step 2 of 2\n",
    "LogisticRegression(C=1.0, class_weight=None, dual=False, fit_intercept=True,\n",
    "   intercept_scaling=1, l1_ratio=None, max_iter=100,\n",
    "   multi_class='warn', n_jobs=None, penalty='12',\n",
    "   random_state=1, solver='lbfgs', tol=0.0001, verbose=0,\n",
    "   warm_start=False)"
   ]
  },
  {
   "cell_type": "code",
   "execution_count": 23,
   "metadata": {},
   "outputs": [
    {
     "data": {
      "text/plain": [
       "LogisticRegression(random_state=1)"
      ]
     },
     "execution_count": 23,
     "metadata": {},
     "output_type": "execute_result"
    }
   ],
   "source": [
    "# Train the Logistic Regression Model  - Using scaled data takes prediction accuracy from 66% to 69%\n",
    "classifier.fit(X_resampled, y_resampled)"
   ]
  },
  {
   "cell_type": "code",
   "execution_count": 24,
   "metadata": {},
   "outputs": [],
   "source": [
    "# Validate the Logistic Regression Model\n",
    "y_pred = classifier.predict(X_test_scaled)"
   ]
  },
  {
   "cell_type": "code",
   "execution_count": 25,
   "metadata": {},
   "outputs": [
    {
     "data": {
      "text/html": [
       "<div>\n",
       "<style scoped>\n",
       "    .dataframe tbody tr th:only-of-type {\n",
       "        vertical-align: middle;\n",
       "    }\n",
       "\n",
       "    .dataframe tbody tr th {\n",
       "        vertical-align: top;\n",
       "    }\n",
       "\n",
       "    .dataframe thead th {\n",
       "        text-align: right;\n",
       "    }\n",
       "</style>\n",
       "<table border=\"1\" class=\"dataframe\">\n",
       "  <thead>\n",
       "    <tr style=\"text-align: right;\">\n",
       "      <th></th>\n",
       "      <th>Prediction</th>\n",
       "      <th>Actual</th>\n",
       "    </tr>\n",
       "  </thead>\n",
       "  <tbody>\n",
       "    <tr>\n",
       "      <th>9357</th>\n",
       "      <td>1</td>\n",
       "      <td>1</td>\n",
       "    </tr>\n",
       "    <tr>\n",
       "      <th>38816</th>\n",
       "      <td>1</td>\n",
       "      <td>1</td>\n",
       "    </tr>\n",
       "    <tr>\n",
       "      <th>54453</th>\n",
       "      <td>1</td>\n",
       "      <td>1</td>\n",
       "    </tr>\n",
       "    <tr>\n",
       "      <th>24503</th>\n",
       "      <td>0</td>\n",
       "      <td>1</td>\n",
       "    </tr>\n",
       "    <tr>\n",
       "      <th>3118</th>\n",
       "      <td>1</td>\n",
       "      <td>1</td>\n",
       "    </tr>\n",
       "    <tr>\n",
       "      <th>...</th>\n",
       "      <td>...</td>\n",
       "      <td>...</td>\n",
       "    </tr>\n",
       "    <tr>\n",
       "      <th>73819</th>\n",
       "      <td>0</td>\n",
       "      <td>1</td>\n",
       "    </tr>\n",
       "    <tr>\n",
       "      <th>7558</th>\n",
       "      <td>1</td>\n",
       "      <td>0</td>\n",
       "    </tr>\n",
       "    <tr>\n",
       "      <th>84568</th>\n",
       "      <td>1</td>\n",
       "      <td>0</td>\n",
       "    </tr>\n",
       "    <tr>\n",
       "      <th>72945</th>\n",
       "      <td>1</td>\n",
       "      <td>1</td>\n",
       "    </tr>\n",
       "    <tr>\n",
       "      <th>69745</th>\n",
       "      <td>1</td>\n",
       "      <td>1</td>\n",
       "    </tr>\n",
       "  </tbody>\n",
       "</table>\n",
       "<p>22297 rows × 2 columns</p>\n",
       "</div>"
      ],
      "text/plain": [
       "       Prediction  Actual\n",
       "9357            1       1\n",
       "38816           1       1\n",
       "54453           1       1\n",
       "24503           0       1\n",
       "3118            1       1\n",
       "...           ...     ...\n",
       "73819           0       1\n",
       "7558            1       0\n",
       "84568           1       0\n",
       "72945           1       1\n",
       "69745           1       1\n",
       "\n",
       "[22297 rows x 2 columns]"
      ]
     },
     "execution_count": 25,
     "metadata": {},
     "output_type": "execute_result"
    }
   ],
   "source": [
    "# Step 2 run predictions\n",
    "pd.DataFrame({\"Prediction\": y_pred, \"Actual\": y_test[\"SUCCESS\"]})"
   ]
  },
  {
   "cell_type": "code",
   "execution_count": 26,
   "metadata": {},
   "outputs": [
    {
     "name": "stdout",
     "output_type": "stream",
     "text": [
      "<function balanced_accuracy_score at 0x000000000A0F6558>\n",
      "                   pre       rec       spe        f1       geo       iba       sup\n",
      "\n",
      "          0       0.56      0.60      0.73      0.58      0.67      0.44      8005\n",
      "          1       0.77      0.73      0.60      0.75      0.67      0.45     14292\n",
      "\n",
      "avg / total       0.69      0.69      0.65      0.69      0.67      0.44     22297\n",
      "\n"
     ]
    }
   ],
   "source": [
    "# ANALYZE RESULTS\n",
    "# Assess the Accuracy Score\n",
    "balanced_accuracy_score(y_test, y_pred)\n",
    "print(balanced_accuracy_score)\n",
    "\n",
    "# Run the Confusion Matrix and print imbalanced classification report\n",
    "confusion_matrix(y_test, y_pred)\n",
    "print(classification_report_imbalanced(y_test, y_pred))"
   ]
  },
  {
   "cell_type": "markdown",
   "metadata": {},
   "source": [
    "# Random Forest Model on Binary Classification after tuning steps taken delineated in first code block"
   ]
  },
  {
   "cell_type": "code",
   "execution_count": 27,
   "metadata": {},
   "outputs": [
    {
     "data": {
      "text/plain": [
       "RandomForestClassifier(criterion='entropy', max_features='log2',\n",
       "                       n_estimators=50, random_state=78)"
      ]
     },
     "execution_count": 27,
     "metadata": {},
     "output_type": "execute_result"
    }
   ],
   "source": [
    "# Create a random forest classifier.\n",
    "rf_model = RandomForestClassifier(n_estimators=50, random_state=78, criterion='entropy', max_features='log2') \n",
    "\n",
    "# Fitting the model\n",
    "rf_model.fit(X_resampled, y_resampled)\n",
    "\n",
    "# TUNING: Do each line once, i.e. only change n-estimators and run 3 times, go with best result. Then next line.\n",
    "# (1) n_estimators: Start at 100, go down to 50, up to 200 *** 50 works best***\n",
    "# (2) random state: leave as-is\n",
    "# (3) max-depth: start at 5, then remove to see how far it goes. * removing max_depth adds 6.8%age points to accuracy ***\n",
    "# (4) criterion - change between 'gini' and 'entropy'  *** entropy works best ***\n",
    "# (5) max-features: try 'auto', 'sqrt', 'log2'  ***log2 works best***"
   ]
  },
  {
   "cell_type": "code",
   "execution_count": 28,
   "metadata": {},
   "outputs": [
    {
     "data": {
      "text/plain": [
       "Counter({'SUCCESS': 1})"
      ]
     },
     "execution_count": 28,
     "metadata": {},
     "output_type": "execute_result"
    }
   ],
   "source": [
    "# Count y_resampled\n",
    "Counter(y_resampled)"
   ]
  },
  {
   "cell_type": "code",
   "execution_count": 29,
   "metadata": {},
   "outputs": [
    {
     "data": {
      "text/plain": [
       "1"
      ]
     },
     "execution_count": 29,
     "metadata": {},
     "output_type": "execute_result"
    }
   ],
   "source": [
    "# Making predictions using the testing data.\n",
    "y_pred = rf_model.predict(X_test_scaled)\n",
    "y_pred[5]"
   ]
  },
  {
   "cell_type": "code",
   "execution_count": 30,
   "metadata": {},
   "outputs": [
    {
     "data": {
      "text/plain": [
       "{'bootstrap': True,\n",
       " 'ccp_alpha': 0.0,\n",
       " 'class_weight': None,\n",
       " 'criterion': 'entropy',\n",
       " 'max_depth': None,\n",
       " 'max_features': 'log2',\n",
       " 'max_leaf_nodes': None,\n",
       " 'max_samples': None,\n",
       " 'min_impurity_decrease': 0.0,\n",
       " 'min_impurity_split': None,\n",
       " 'min_samples_leaf': 1,\n",
       " 'min_samples_split': 2,\n",
       " 'min_weight_fraction_leaf': 0.0,\n",
       " 'n_estimators': 50,\n",
       " 'n_jobs': None,\n",
       " 'oob_score': False,\n",
       " 'random_state': 78,\n",
       " 'verbose': 0,\n",
       " 'warm_start': False}"
      ]
     },
     "execution_count": 30,
     "metadata": {},
     "output_type": "execute_result"
    }
   ],
   "source": [
    "# Look at Importance of Each Parameter \n",
    "rf_model.get_params(deep=True)"
   ]
  },
  {
   "cell_type": "code",
   "execution_count": 31,
   "metadata": {},
   "outputs": [
    {
     "data": {
      "text/plain": [
       "0.6912140646723774"
      ]
     },
     "execution_count": 31,
     "metadata": {},
     "output_type": "execute_result"
    }
   ],
   "source": [
    "# RETURN MEAN ACCURACY\n",
    "rf_model.score(X_test_scaled, y_test)"
   ]
  },
  {
   "cell_type": "code",
   "execution_count": 32,
   "metadata": {},
   "outputs": [
    {
     "name": "stdout",
     "output_type": "stream",
     "text": [
      "<function balanced_accuracy_score at 0x000000000A0F6558>\n",
      "                   pre       rec       spe        f1       geo       iba       sup\n",
      "\n",
      "          0       0.60      0.43      0.83      0.50      0.60      0.35      8005\n",
      "          1       0.73      0.83      0.43      0.78      0.60      0.38     14292\n",
      "\n",
      "avg / total       0.68      0.69      0.58      0.68      0.60      0.37     22297\n",
      "\n"
     ]
    }
   ],
   "source": [
    "# ANALYZE RESULTS\n",
    "# Assess the Accuracy Score\n",
    "balanced_accuracy_score(y_test, y_pred)\n",
    "print(balanced_accuracy_score)\n",
    "\n",
    "# Run the Confusion Matrix and print imbalanced classification report\n",
    "confusion_matrix(y_test, y_pred)\n",
    "print(classification_report_imbalanced(y_test, y_pred))"
   ]
  }
 ],
 "metadata": {
  "kernelspec": {
   "display_name": "mlenv",
   "language": "python",
   "name": "mlenv"
  },
  "language_info": {
   "codemirror_mode": {
    "name": "ipython",
    "version": 3
   },
   "file_extension": ".py",
   "mimetype": "text/x-python",
   "name": "python",
   "nbconvert_exporter": "python",
   "pygments_lexer": "ipython3",
   "version": "3.7.7"
  }
 },
 "nbformat": 4,
 "nbformat_minor": 4
}
