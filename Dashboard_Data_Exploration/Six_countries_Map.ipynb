{
 "cells": [
  {
   "cell_type": "code",
   "execution_count": 1,
   "metadata": {},
   "outputs": [],
   "source": [
    "import pandas as pd\n",
    "import gmaps\n",
    "import gmaps.datasets\n",
    "# Import the API key.\n",
    "from config import g_key\n",
    "import numpy as np\n",
    "from pathlib import Path"
   ]
  },
  {
   "cell_type": "code",
   "execution_count": 2,
   "metadata": {},
   "outputs": [],
   "source": [
    "gmaps.configure(api_key=g_key)"
   ]
  },
  {
   "cell_type": "code",
   "execution_count": 3,
   "metadata": {},
   "outputs": [
    {
     "data": {
      "text/html": [
       "<div>\n",
       "<style scoped>\n",
       "    .dataframe tbody tr th:only-of-type {\n",
       "        vertical-align: middle;\n",
       "    }\n",
       "\n",
       "    .dataframe tbody tr th {\n",
       "        vertical-align: top;\n",
       "    }\n",
       "\n",
       "    .dataframe thead th {\n",
       "        text-align: right;\n",
       "    }\n",
       "</style>\n",
       "<table border=\"1\" class=\"dataframe\">\n",
       "  <thead>\n",
       "    <tr style=\"text-align: right;\">\n",
       "      <th></th>\n",
       "      <th>LOAN_NAME</th>\n",
       "      <th>ACTIVITY_NAME</th>\n",
       "      <th>COUNTRY_NAME</th>\n",
       "      <th>TOWN_NAME</th>\n",
       "      <th>DESCRIPTION</th>\n",
       "      <th>LOAN_AMOUNT</th>\n",
       "    </tr>\n",
       "  </thead>\n",
       "  <tbody>\n",
       "    <tr>\n",
       "      <th>0</th>\n",
       "      <td>JANE</td>\n",
       "      <td>Tailoring</td>\n",
       "      <td>Kenya</td>\n",
       "      <td>Nakuru</td>\n",
       "      <td>Jane is a married woman. She has two children....</td>\n",
       "      <td>225.0</td>\n",
       "    </tr>\n",
       "    <tr>\n",
       "      <th>1</th>\n",
       "      <td>Arati</td>\n",
       "      <td>Personal Housing Expenses</td>\n",
       "      <td>India</td>\n",
       "      <td>Phulbani, Odisha</td>\n",
       "      <td>Arati is a 29-year-old woman from a village in...</td>\n",
       "      <td>250.0</td>\n",
       "    </tr>\n",
       "    <tr>\n",
       "      <th>2</th>\n",
       "      <td>Tini</td>\n",
       "      <td>Personal Housing Expenses</td>\n",
       "      <td>Indonesia</td>\n",
       "      <td>Lebak</td>\n",
       "      <td>Good day, lenders! Meet one of KSPPS BMI’s cli...</td>\n",
       "      <td>525.0</td>\n",
       "    </tr>\n",
       "    <tr>\n",
       "      <th>3</th>\n",
       "      <td>Jessica</td>\n",
       "      <td>Health</td>\n",
       "      <td>United States</td>\n",
       "      <td>Portsmouth</td>\n",
       "      <td>Over twenty years ago something happened that ...</td>\n",
       "      <td>10000.0</td>\n",
       "    </tr>\n",
       "    <tr>\n",
       "      <th>4</th>\n",
       "      <td>Claudia Jimena</td>\n",
       "      <td>Higher education costs</td>\n",
       "      <td>Bolivia</td>\n",
       "      <td>Chuquisaca</td>\n",
       "      <td>Claudia has always dreamed of becoming a profe...</td>\n",
       "      <td>750.0</td>\n",
       "    </tr>\n",
       "    <tr>\n",
       "      <th>5</th>\n",
       "      <td>Anna</td>\n",
       "      <td>Farm Supplies</td>\n",
       "      <td>Ukraine</td>\n",
       "      <td>Energodar</td>\n",
       "      <td>Anna is married with a 7-year-old daughter. Sh...</td>\n",
       "      <td>2525.0</td>\n",
       "    </tr>\n",
       "  </tbody>\n",
       "</table>\n",
       "</div>"
      ],
      "text/plain": [
       "        LOAN_NAME              ACTIVITY_NAME   COUNTRY_NAME         TOWN_NAME  \\\n",
       "0            JANE                  Tailoring          Kenya            Nakuru   \n",
       "1           Arati  Personal Housing Expenses          India  Phulbani, Odisha   \n",
       "2            Tini  Personal Housing Expenses      Indonesia             Lebak   \n",
       "3         Jessica                     Health  United States        Portsmouth   \n",
       "4  Claudia Jimena     Higher education costs        Bolivia        Chuquisaca   \n",
       "5            Anna              Farm Supplies        Ukraine         Energodar   \n",
       "\n",
       "                                         DESCRIPTION  LOAN_AMOUNT  \n",
       "0  Jane is a married woman. She has two children....        225.0  \n",
       "1  Arati is a 29-year-old woman from a village in...        250.0  \n",
       "2  Good day, lenders! Meet one of KSPPS BMI’s cli...        525.0  \n",
       "3  Over twenty years ago something happened that ...      10000.0  \n",
       "4  Claudia has always dreamed of becoming a profe...        750.0  \n",
       "5  Anna is married with a 7-year-old daughter. Sh...       2525.0  "
      ]
     },
     "execution_count": 3,
     "metadata": {},
     "output_type": "execute_result"
    }
   ],
   "source": [
    "# Load the data\n",
    "file_path = Path('six_countries.csv')\n",
    "\n",
    "six_countries_df = pd.read_csv(file_path)\n",
    "six_countries_df.head(6)"
   ]
  },
  {
   "cell_type": "code",
   "execution_count": 4,
   "metadata": {},
   "outputs": [],
   "source": [
    "#adding latitudes\n",
    "latitude=['-0.3', '20.47', '-6.65', '43.075556', '-20', '47.498889']\n",
    "\n",
    "six_countries_df['LATITUDE'] = latitude\n",
    "\n"
   ]
  },
  {
   "cell_type": "code",
   "execution_count": 5,
   "metadata": {},
   "outputs": [],
   "source": [
    "#adding longitudes\n",
    "longitude = ['36.066667', '84.23',  '106.21667', '-70.760556', '-64.416667', '34.655833']\n",
    "\n",
    "six_countries_df['LONGITUDE'] = longitude"
   ]
  },
  {
   "cell_type": "code",
   "execution_count": 6,
   "metadata": {},
   "outputs": [
    {
     "data": {
      "text/html": [
       "<div>\n",
       "<style scoped>\n",
       "    .dataframe tbody tr th:only-of-type {\n",
       "        vertical-align: middle;\n",
       "    }\n",
       "\n",
       "    .dataframe tbody tr th {\n",
       "        vertical-align: top;\n",
       "    }\n",
       "\n",
       "    .dataframe thead th {\n",
       "        text-align: right;\n",
       "    }\n",
       "</style>\n",
       "<table border=\"1\" class=\"dataframe\">\n",
       "  <thead>\n",
       "    <tr style=\"text-align: right;\">\n",
       "      <th></th>\n",
       "      <th>LOAN_NAME</th>\n",
       "      <th>ACTIVITY_NAME</th>\n",
       "      <th>COUNTRY_NAME</th>\n",
       "      <th>TOWN_NAME</th>\n",
       "      <th>DESCRIPTION</th>\n",
       "      <th>LOAN_AMOUNT</th>\n",
       "      <th>LATITUDE</th>\n",
       "      <th>LONGITUDE</th>\n",
       "    </tr>\n",
       "  </thead>\n",
       "  <tbody>\n",
       "    <tr>\n",
       "      <th>0</th>\n",
       "      <td>JANE</td>\n",
       "      <td>Tailoring</td>\n",
       "      <td>Kenya</td>\n",
       "      <td>Nakuru</td>\n",
       "      <td>Jane is a married woman. She has two children....</td>\n",
       "      <td>225.0</td>\n",
       "      <td>-0.3</td>\n",
       "      <td>36.066667</td>\n",
       "    </tr>\n",
       "    <tr>\n",
       "      <th>1</th>\n",
       "      <td>Arati</td>\n",
       "      <td>Personal Housing Expenses</td>\n",
       "      <td>India</td>\n",
       "      <td>Phulbani, Odisha</td>\n",
       "      <td>Arati is a 29-year-old woman from a village in...</td>\n",
       "      <td>250.0</td>\n",
       "      <td>20.47</td>\n",
       "      <td>84.23</td>\n",
       "    </tr>\n",
       "    <tr>\n",
       "      <th>2</th>\n",
       "      <td>Tini</td>\n",
       "      <td>Personal Housing Expenses</td>\n",
       "      <td>Indonesia</td>\n",
       "      <td>Lebak</td>\n",
       "      <td>Good day, lenders! Meet one of KSPPS BMI’s cli...</td>\n",
       "      <td>525.0</td>\n",
       "      <td>-6.65</td>\n",
       "      <td>106.21667</td>\n",
       "    </tr>\n",
       "    <tr>\n",
       "      <th>3</th>\n",
       "      <td>Jessica</td>\n",
       "      <td>Health</td>\n",
       "      <td>United States</td>\n",
       "      <td>Portsmouth</td>\n",
       "      <td>Over twenty years ago something happened that ...</td>\n",
       "      <td>10000.0</td>\n",
       "      <td>43.075556</td>\n",
       "      <td>-70.760556</td>\n",
       "    </tr>\n",
       "    <tr>\n",
       "      <th>4</th>\n",
       "      <td>Claudia Jimena</td>\n",
       "      <td>Higher education costs</td>\n",
       "      <td>Bolivia</td>\n",
       "      <td>Chuquisaca</td>\n",
       "      <td>Claudia has always dreamed of becoming a profe...</td>\n",
       "      <td>750.0</td>\n",
       "      <td>-20</td>\n",
       "      <td>-64.416667</td>\n",
       "    </tr>\n",
       "    <tr>\n",
       "      <th>5</th>\n",
       "      <td>Anna</td>\n",
       "      <td>Farm Supplies</td>\n",
       "      <td>Ukraine</td>\n",
       "      <td>Energodar</td>\n",
       "      <td>Anna is married with a 7-year-old daughter. Sh...</td>\n",
       "      <td>2525.0</td>\n",
       "      <td>47.498889</td>\n",
       "      <td>34.655833</td>\n",
       "    </tr>\n",
       "  </tbody>\n",
       "</table>\n",
       "</div>"
      ],
      "text/plain": [
       "        LOAN_NAME              ACTIVITY_NAME   COUNTRY_NAME         TOWN_NAME  \\\n",
       "0            JANE                  Tailoring          Kenya            Nakuru   \n",
       "1           Arati  Personal Housing Expenses          India  Phulbani, Odisha   \n",
       "2            Tini  Personal Housing Expenses      Indonesia             Lebak   \n",
       "3         Jessica                     Health  United States        Portsmouth   \n",
       "4  Claudia Jimena     Higher education costs        Bolivia        Chuquisaca   \n",
       "5            Anna              Farm Supplies        Ukraine         Energodar   \n",
       "\n",
       "                                         DESCRIPTION  LOAN_AMOUNT   LATITUDE  \\\n",
       "0  Jane is a married woman. She has two children....        225.0       -0.3   \n",
       "1  Arati is a 29-year-old woman from a village in...        250.0      20.47   \n",
       "2  Good day, lenders! Meet one of KSPPS BMI’s cli...        525.0      -6.65   \n",
       "3  Over twenty years ago something happened that ...      10000.0  43.075556   \n",
       "4  Claudia has always dreamed of becoming a profe...        750.0        -20   \n",
       "5  Anna is married with a 7-year-old daughter. Sh...       2525.0  47.498889   \n",
       "\n",
       "    LONGITUDE  \n",
       "0   36.066667  \n",
       "1       84.23  \n",
       "2   106.21667  \n",
       "3  -70.760556  \n",
       "4  -64.416667  \n",
       "5   34.655833  "
      ]
     },
     "execution_count": 6,
     "metadata": {},
     "output_type": "execute_result"
    }
   ],
   "source": [
    "six_countries_df"
   ]
  },
  {
   "cell_type": "code",
   "execution_count": 7,
   "metadata": {},
   "outputs": [],
   "source": [
    "six_countries_df['LATITUDE'] = six_countries_df ['LATITUDE'].astype(float)\n",
    "\n",
    "six_countries_df['LONGITUDE'] = six_countries_df ['LONGITUDE'].astype(float)\n"
   ]
  },
  {
   "cell_type": "code",
   "execution_count": 8,
   "metadata": {},
   "outputs": [],
   "source": [
    "#map_countries = pd.DataFrame(six_countries_df, columns=[\"LOAN_NAME\", \"ACTIVITY_NAME\", \"COUNTRY_NAME\", \"DESCRIPTION\"])"
   ]
  },
  {
   "cell_type": "code",
   "execution_count": 9,
   "metadata": {},
   "outputs": [],
   "source": [
    "#map_countries.head()"
   ]
  },
  {
   "cell_type": "code",
   "execution_count": 10,
   "metadata": {},
   "outputs": [
    {
     "data": {
      "text/plain": [
       "LOAN_NAME         object\n",
       "ACTIVITY_NAME     object\n",
       "COUNTRY_NAME      object\n",
       "TOWN_NAME         object\n",
       "DESCRIPTION       object\n",
       "LOAN_AMOUNT      float64\n",
       "LATITUDE         float64\n",
       "LONGITUDE        float64\n",
       "dtype: object"
      ]
     },
     "execution_count": 10,
     "metadata": {},
     "output_type": "execute_result"
    }
   ],
   "source": [
    "six_countries_df.dtypes"
   ]
  },
  {
   "cell_type": "code",
   "execution_count": 11,
   "metadata": {},
   "outputs": [],
   "source": [
    "#latitude and longitude\n",
    "#Nakuru = (-0.3, 36.066667)\n",
    "#Phulbani = (20.47, 84.23)\n",
    "#Lebak = (-6.65, 106.21667)\n",
    "#Portsmouth = (43.075556, -70.760556)\n",
    "#Chuquisaca = (-20, -64.416667)\n",
    "#Energodar = (47.498889, 34.655833)\n",
    "#fig = gmaps.figure()\n",
    "#fig\n",
    "#########\n",
    "###richards_bay_citytoport_elizabeth_city = gmaps.directions_layer(richards_bay_city, port_elizabeth_city)\n",
    "##fig.add_layer(richards_bay_citytoport_elizabeth_city)\n",
    "##fig\n"
   ]
  },
  {
   "cell_type": "code",
   "execution_count": 12,
   "metadata": {},
   "outputs": [],
   "source": [
    "info_box_template = \"\"\"\n",
    "<dl>\n",
    "<dt>Loan Name</dt><dd>{LOAN_NAME}</dd>\n",
    "<dt>Description</dt><dd>{ACTIVITY_NAME}</dd>\n",
    "<dt>Country</dt><dd>{COUNTRY_NAME}</dd>\n",
    "<dt>Loan Amount</dt><dd>{LOAN_AMOUNT}</dd>\n",
    "</dl>\n",
    "\"\"\""
   ]
  },
  {
   "cell_type": "code",
   "execution_count": 13,
   "metadata": {},
   "outputs": [
    {
     "data": {
      "text/plain": [
       "['\\n<dl>\\n<dt>Loan Name</dt><dd>JANE</dd>\\n<dt>Description</dt><dd>Tailoring</dd>\\n<dt>Country</dt><dd>Kenya</dd>\\n<dt>Loan Amount</dt><dd>225.0</dd>\\n</dl>\\n',\n",
       " '\\n<dl>\\n<dt>Loan Name</dt><dd>Arati</dd>\\n<dt>Description</dt><dd>Personal Housing Expenses</dd>\\n<dt>Country</dt><dd>India</dd>\\n<dt>Loan Amount</dt><dd>250.0</dd>\\n</dl>\\n',\n",
       " '\\n<dl>\\n<dt>Loan Name</dt><dd>Tini</dd>\\n<dt>Description</dt><dd>Personal Housing Expenses</dd>\\n<dt>Country</dt><dd>Indonesia</dd>\\n<dt>Loan Amount</dt><dd>525.0</dd>\\n</dl>\\n',\n",
       " '\\n<dl>\\n<dt>Loan Name</dt><dd>Jessica</dd>\\n<dt>Description</dt><dd>Health</dd>\\n<dt>Country</dt><dd>United States</dd>\\n<dt>Loan Amount</dt><dd>10000.0</dd>\\n</dl>\\n',\n",
       " '\\n<dl>\\n<dt>Loan Name</dt><dd>Claudia Jimena</dd>\\n<dt>Description</dt><dd>Higher education costs</dd>\\n<dt>Country</dt><dd>Bolivia</dd>\\n<dt>Loan Amount</dt><dd>750.0</dd>\\n</dl>\\n',\n",
       " '\\n<dl>\\n<dt>Loan Name</dt><dd>Anna</dd>\\n<dt>Description</dt><dd>Farm Supplies</dd>\\n<dt>Country</dt><dd>Ukraine</dd>\\n<dt>Loan Amount</dt><dd>2525.0</dd>\\n</dl>\\n']"
      ]
     },
     "execution_count": 13,
     "metadata": {},
     "output_type": "execute_result"
    }
   ],
   "source": [
    "# Store the DataFrame Row.\n",
    "Loan_detailed_info = [info_box_template.format(**row) for index, row in six_countries_df.iterrows()]\n",
    "Loan_detailed_info"
   ]
  },
  {
   "cell_type": "code",
   "execution_count": 14,
   "metadata": {},
   "outputs": [
    {
     "data": {
      "application/vnd.jupyter.widget-view+json": {
       "model_id": "3ea32af2e4ab486baee5d42d683ccc4a",
       "version_major": 2,
       "version_minor": 0
      },
      "text/plain": [
       "Figure(layout=FigureLayout(height='420px'))"
      ]
     },
     "metadata": {},
     "output_type": "display_data"
    }
   ],
   "source": [
    "locations = six_countries_df[['LATITUDE', 'LONGITUDE']]\n",
    "Countries = six_countries_df['COUNTRY_NAME']\n",
    "#Description = six_countries_df['DESCRIPTION']\n",
    "Activity_name = six_countries_df['ACTIVITY_NAME']\n",
    "Loan_name = six_countries_df ['LOAN_NAME']\n",
    "Loan_amount = six_countries_df['LOAN_AMOUNT']\n",
    "                               \n",
    "fig = gmaps.figure(center=(30.0, 31.0), zoom_level=1.5)\n",
    "marker_layer = gmaps.marker_layer(locations, info_box_content=Loan_detailed_info)\n",
    "fig.add_layer(marker_layer)\n",
    "# Call the figure to plot the data.\n",
    "fig"
   ]
  },
  {
   "cell_type": "code",
   "execution_count": null,
   "metadata": {},
   "outputs": [],
   "source": []
  }
 ],
 "metadata": {
  "kernelspec": {
   "display_name": "PythonData",
   "language": "python",
   "name": "pythondata"
  },
  "language_info": {
   "codemirror_mode": {
    "name": "ipython",
    "version": 3
   },
   "file_extension": ".py",
   "mimetype": "text/x-python",
   "name": "python",
   "nbconvert_exporter": "python",
   "pygments_lexer": "ipython3",
   "version": "3.7.7"
  }
 },
 "nbformat": 4,
 "nbformat_minor": 4
}
